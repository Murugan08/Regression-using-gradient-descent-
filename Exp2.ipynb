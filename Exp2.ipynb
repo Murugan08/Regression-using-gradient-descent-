{
 "cells": [
  {
   "cell_type": "code",
   "execution_count": 45,
   "metadata": {},
   "outputs": [],
   "source": [
    "def gradientDescent(X_train,y_train,theta,alpha,iters):\n",
    "    costHistory = [0] * iters\n",
    "    for i in range(iters):\n",
    "        theta = theta - (alpha/len(X_train)) * np.sum(X_train * (X_train @ theta.T - y_train), axis=0)\n",
    "        costv = compute_cost(X_train, y_train, theta)\n",
    "        costHistory[i] = costv;    \n",
    "    list1=[0.00001]; #threshold level\n",
    "    cost1 = []\n",
    "    for k in list1:\n",
    "        for j in range(len(costHistory)-1):\n",
    "            c = abs(costHistory[j]- costHistory[j+1])\n",
    "            if c <=k:\n",
    "                print(\"Threshold level\",k,'\\n')\n",
    "                print(\"Cost Function converges at\", j,'\\n')\n",
    "                print('Model Cost: ', costHistory[j], '\\n')\n",
    "                break\n",
    "        cost1.append(costHistory[j])\n",
    "        print('Model Coefficients: ');\n",
    "        print(theta);\n",
    "    print('alpha:',alpha);\n",
    "    plt.plot(costHistory) \n",
    "    plt.xlabel(\"Number of iterations\") \n",
    "    plt.ylabel(\"Cost\") \n",
    "    plt.show() \n",
    "    return theta, costHistory;\n",
    "def developLinearModel(dataFile, dataTarget):\n",
    "    theta = np.zeros((1, len(dataFile[0])));\n",
    "    print(theta);\n",
    "    print();\n",
    "    initialCost = compute_cost(dataFile, dataTarget, theta);\n",
    "    print('Initial Cost: ', initialCost, '\\n');\n",
    "    theta, costHistory = gradientDescent(dataFile, dataTarget, theta,0.1, 500);\n",
    "    return theta"
   ]
  },
  {
   "cell_type": "code",
   "execution_count": 46,
   "metadata": {},
   "outputs": [
    {
     "name": "stdout",
     "output_type": "stream",
     "text": [
      "[[0. 0. 0. 0. 0. 0. 0. 0. 0. 0. 0. 0. 0. 0.]]\n",
      "\n",
      "Initial Cost:  0.5003723423617013 \n",
      "\n",
      "Threshold level 1e-05 \n",
      "\n",
      "Cost Function converges at 64 \n",
      "\n",
      "Model Cost:  0.2984181614881302 \n",
      "\n",
      "Model Coefficients: \n",
      "[[ 1.71781009e-04  3.84017165e-01  3.54353963e-01  1.10305201e-01\n",
      "  -3.56901943e-01 -3.50041946e-01  2.66205534e-02  2.67187614e-02\n",
      "   3.28662033e-02 -7.66858394e-03 -1.61867116e-02 -1.23630743e-02\n",
      "  -1.80788620e-04  5.22032209e-02]]\n",
      "alpha: 0.1\n"
     ]
    },
    {
     "data": {
      "image/png": "[encoded data removed]",
      "text/plain": [
       "<Figure size 432x288 with 1 Axes>"
      ]
     },
     "metadata": {
      "needs_background": "light"
     },
     "output_type": "display_data"
    }
   ],
   "source": [
    "linearModel_t1= developLinearModel(X_train,y_train)"
   ]
  },
  {
   "cell_type": "code",
   "execution_count": 47,
   "metadata": {},
   "outputs": [],
   "source": [
    "# implement gradient descent\n",
    "def gradientDescent(X_train,y_train,theta,alpha,iters):\n",
    "    costHistory = [0] * iters\n",
    "    for i in range(iters):\n",
    "        theta = theta - (alpha/len(X_train)) * np.sum(X_train * (X_train @ theta.T - y_train), axis=0)\n",
    "        costv = compute_cost(X_train, y_train, theta)\n",
    "        costHistory[i] = costv;    \n",
    "    list1=[0.0001]; #threshold level\n",
    "    cost1 = []\n",
    "    for k in list1:\n",
    "        for j in range(len(costHistory)-1):\n",
    "            c = abs(costHistory[j]- costHistory[j+1])\n",
    "            if c <=k:\n",
    "                print(\"Threshold level\",k,'\\n')\n",
    "                print(\"Cost Function converges at\", j,'\\n')\n",
    "                print('Model Cost: ', costHistory[j], '\\n')\n",
    "                break\n",
    "        cost1.append(costHistory[j])\n",
    "        print('Model Coefficients: ');\n",
    "        print(theta);\n",
    "    print('alpha:',alpha);\n",
    "    plt.plot(costHistory) \n",
    "    plt.xlabel(\"Number of iterations\") \n",
    "    plt.ylabel(\"Cost\") \n",
    "    plt.show() \n",
    "    return theta, costHistory;\n",
    "def developLinearModel2(dataFile, dataTarget):\n",
    "    theta = np.zeros((1, len(dataFile[0])));\n",
    "    print(theta);\n",
    "    print();\n",
    "    initialCost = compute_cost(dataFile, dataTarget, theta);\n",
    "    print('Initial Cost: ', initialCost, '\\n');\n",
    "    theta, costHistory = gradientDescent(dataFile, dataTarget, theta,0.1, 500);\n",
    "    return theta"
   ]
  },
  {
   "cell_type": "code",
   "execution_count": 48,
   "metadata": {},
   "outputs": [
    {
     "name": "stdout",
     "output_type": "stream",
     "text": [
      "[[0. 0. 0. 0. 0. 0. 0. 0. 0. 0. 0. 0. 0. 0.]]\n",
      "\n",
      "Initial Cost:  0.5003723423617013 \n",
      "\n",
      "Threshold level 0.0001 \n",
      "\n",
      "Cost Function converges at 43 \n",
      "\n",
      "Model Cost:  0.2992175724172731 \n",
      "\n",
      "Model Coefficients: \n",
      "[[ 1.71781009e-04  3.84017165e-01  3.54353963e-01  1.10305201e-01\n",
      "  -3.56901943e-01 -3.50041946e-01  2.66205534e-02  2.67187614e-02\n",
      "   3.28662033e-02 -7.66858394e-03 -1.61867116e-02 -1.23630743e-02\n",
      "  -1.80788620e-04  5.22032209e-02]]\n",
      "alpha: 0.1\n"
     ]
    },
    {
     "data": {
      "image/png": "[encoded data removed]",
      "text/plain": [
       "<Figure size 432x288 with 1 Axes>"
      ]
     },
     "metadata": {
      "needs_background": "light"
     },
     "output_type": "display_data"
    }
   ],
   "source": [
    "linearModel_t2= developLinearModel2(X_train,y_train)"
   ]
  },
  {
   "cell_type": "code",
   "execution_count": 51,
   "metadata": {},
   "outputs": [],
   "source": [
    "def gradientDescent(X_train,y_train,theta,alpha,iters):\n",
    "    costHistory = [0] * iters\n",
    "    for i in range(iters):\n",
    "        theta = theta - (alpha/len(X_train)) * np.sum(X_train * (X_train @ theta.T - y_train), axis=0)\n",
    "        costv = compute_cost(X_train, y_train, theta)\n",
    "        costHistory[i] = costv;    \n",
    "    list1=[0.0003]; #threshold level\n",
    "    cost1 = []\n",
    "    for k in list1:\n",
    "        for j in range(len(costHistory)-1):\n",
    "            c = abs(costHistory[j]- costHistory[j+1])\n",
    "            if c <=k:\n",
    "                print(\"Threshold level\",k,'\\n')\n",
    "                print(\"Cost Function converges at\", j,'\\n')\n",
    "                print('Model Cost: ', costHistory[j], '\\n')\n",
    "                break\n",
    "        cost1.append(costHistory[j])\n",
    "        print('Model Coefficients: ');\n",
    "        print(theta);\n",
    "    print('alpha:',alpha);\n",
    "    plt.plot(costHistory) \n",
    "    plt.xlabel(\"Number of iterations\") \n",
    "    plt.ylabel(\"Cost\") \n",
    "    plt.show() \n",
    "    return theta, costHistory;\n",
    "def developLinearModel3(dataFile, dataTarget):\n",
    "    theta = np.zeros((1, len(dataFile[0])));\n",
    "    print(theta);\n",
    "    print();\n",
    "    initialCost = compute_cost(dataFile, dataTarget, theta);\n",
    "    print('Initial Cost: ', initialCost, '\\n');\n",
    "    theta, costHistory = gradientDescent(dataFile, dataTarget, theta,0.1, 500);\n",
    "    return theta"
   ]
  },
  {
   "cell_type": "code",
   "execution_count": 52,
   "metadata": {},
   "outputs": [
    {
     "name": "stdout",
     "output_type": "stream",
     "text": [
      "[[0. 0. 0. 0. 0. 0. 0. 0. 0. 0. 0. 0. 0. 0.]]\n",
      "\n",
      "Initial Cost:  0.5003723423617013 \n",
      "\n",
      "Threshold level 0.0003 \n",
      "\n",
      "Cost Function converges at 33 \n",
      "\n",
      "Model Cost:  0.30096016722066804 \n",
      "\n",
      "Model Coefficients: \n",
      "[[ 1.71781009e-04  3.84017165e-01  3.54353963e-01  1.10305201e-01\n",
      "  -3.56901943e-01 -3.50041946e-01  2.66205534e-02  2.67187614e-02\n",
      "   3.28662033e-02 -7.66858394e-03 -1.61867116e-02 -1.23630743e-02\n",
      "  -1.80788620e-04  5.22032209e-02]]\n",
      "alpha: 0.1\n"
     ]
    },
    {
     "data": {
      "image/png": "[encoded data removed]",
      "text/plain": [
       "<Figure size 432x288 with 1 Axes>"
      ]
     },
     "metadata": {
      "needs_background": "light"
     },
     "output_type": "display_data"
    }
   ],
   "source": [
    "linearModel_t3= developLinearModel2(X_train,y_train)"
   ]
  },
  {
   "cell_type": "code",
   "execution_count": 53,
   "metadata": {},
   "outputs": [],
   "source": [
    "def gradientDescent(X_train,y_train,theta,alpha,iters):\n",
    "    costHistory = [0] * iters\n",
    "    for i in range(iters):\n",
    "        theta = theta - (alpha/len(X_train)) * np.sum(X_train * (X_train @ theta.T - y_train), axis=0)\n",
    "        costv = compute_cost(X_train, y_train, theta)\n",
    "        costHistory[i] = costv;    \n",
    "    list1=[0.0009]; #threshold level\n",
    "    cost1 = []\n",
    "    for k in list1:\n",
    "        for j in range(len(costHistory)-1):\n",
    "            c = abs(costHistory[j]- costHistory[j+1])\n",
    "            if c <=k:\n",
    "                print(\"Threshold level\",k,'\\n')\n",
    "                print(\"Cost Function converges at\", j,'\\n')\n",
    "                print('Model Cost: ', costHistory[j], '\\n')\n",
    "                break\n",
    "        cost1.append(costHistory[j])\n",
    "        print('Model Coefficients: ');\n",
    "        print(theta);\n",
    "    print('alpha:',alpha);\n",
    "    plt.plot(costHistory) \n",
    "    plt.xlabel(\"Number of iterations\") \n",
    "    plt.ylabel(\"Cost\") \n",
    "    plt.show() \n",
    "    return theta, costHistory;\n",
    "def developLinearModel4(dataFile, dataTarget):\n",
    "    theta = np.zeros((1, len(dataFile[0])));\n",
    "    print(theta);\n",
    "    print();\n",
    "    initialCost = compute_cost(dataFile, dataTarget, theta);\n",
    "    print('Initial Cost: ', initialCost, '\\n');\n",
    "    theta, costHistory = gradientDescent(dataFile, dataTarget, theta,0.1, 500);\n",
    "    return theta"
   ]
  },
  {
   "cell_type": "code",
   "execution_count": 54,
   "metadata": {},
   "outputs": [
    {
     "name": "stdout",
     "output_type": "stream",
     "text": [
      "[[0. 0. 0. 0. 0. 0. 0. 0. 0. 0. 0. 0. 0. 0.]]\n",
      "\n",
      "Initial Cost:  0.5003723423617013 \n",
      "\n",
      "Threshold level 0.0009 \n",
      "\n",
      "Cost Function converges at 23 \n",
      "\n",
      "Model Cost:  0.30618187787586754 \n",
      "\n",
      "Model Coefficients: \n",
      "[[ 1.71781009e-04  3.84017165e-01  3.54353963e-01  1.10305201e-01\n",
      "  -3.56901943e-01 -3.50041946e-01  2.66205534e-02  2.67187614e-02\n",
      "   3.28662033e-02 -7.66858394e-03 -1.61867116e-02 -1.23630743e-02\n",
      "  -1.80788620e-04  5.22032209e-02]]\n",
      "alpha: 0.1\n"
     ]
    },
    {
     "data": {
      "image/png": "[encoded data removed]",
      "text/plain": [
       "<Figure size 432x288 with 1 Axes>"
      ]
     },
     "metadata": {
      "needs_background": "light"
     },
     "output_type": "display_data"
    }
   ],
   "source": [
    "linearModel_t4= developLinearModel2(X_train,y_train)"
   ]
  },
  {
   "cell_type": "code",
   "execution_count": 63,
   "metadata": {},
   "outputs": [],
   "source": [
    "def gradientDescent(X_train,y_train,theta,alpha,iters):\n",
    "    costHistory = [0] * iters\n",
    "    for i in range(iters):\n",
    "        theta = theta - (alpha/len(X_train)) * np.sum(X_train * (X_train @ theta.T - y_train), axis=0)\n",
    "        costv = compute_cost(X_train, y_train, theta)\n",
    "        costHistory[i] = costv;    \n",
    "    list1=[0.0005]; #threshold level\n",
    "    cost1 = []\n",
    "    for k in list1:\n",
    "        for j in range(len(costHistory)-1):\n",
    "            c = abs(costHistory[j]- costHistory[j+1])\n",
    "            if c <=k:\n",
    "                print(\"Threshold level\",k,'\\n')\n",
    "                print(\"Cost Function converges at\", j,'\\n')\n",
    "                print('Model Cost: ', costHistory[j], '\\n')\n",
    "                break\n",
    "        cost1.append(costHistory[j])\n",
    "        print('Model Coefficients: ');\n",
    "        print(theta);\n",
    "    print('alpha:',alpha);\n",
    "    plt.plot(costHistory) \n",
    "    plt.xlabel(\"Number of iterations\") \n",
    "    plt.ylabel(\"Cost\") \n",
    "    plt.show() \n",
    "    return theta, costHistory;\n",
    "def developLinearModel5(dataFile, dataTarget):\n",
    "    theta = np.zeros((1, len(dataFile[0])));\n",
    "    #print(theta);\n",
    "    #print();\n",
    "    initialCost = compute_cost(dataFile, dataTarget, theta);\n",
    "    print('Initial Cost: ', initialCost, '\\n');\n",
    "    theta, costHistory = gradientDescent(dataFile, dataTarget, theta,0.1, 500);\n",
    "    return theta"
   ]
  },
  {
   "cell_type": "code",
   "execution_count": 64,
   "metadata": {},
   "outputs": [
    {
     "name": "stdout",
     "output_type": "stream",
     "text": [
      "[[0. 0. 0. 0. 0. 0. 0. 0. 0. 0. 0. 0. 0. 0.]]\n",
      "\n",
      "Initial Cost:  0.5003723423617013 \n",
      "\n",
      "Threshold level 0.0005 \n",
      "\n",
      "Cost Function converges at 28 \n",
      "\n",
      "Model Cost:  0.30286483476018333 \n",
      "\n",
      "Model Coefficients: \n",
      "[[ 1.71781009e-04  3.84017165e-01  3.54353963e-01  1.10305201e-01\n",
      "  -3.56901943e-01 -3.50041946e-01  2.66205534e-02  2.67187614e-02\n",
      "   3.28662033e-02 -7.66858394e-03 -1.61867116e-02 -1.23630743e-02\n",
      "  -1.80788620e-04  5.22032209e-02]]\n",
      "alpha: 0.1\n"
     ]
    },
    {
     "data": {
      "image/png": "[encoded data removed]",
      "text/plain": [
       "<Figure size 432x288 with 1 Axes>"
      ]
     },
     "metadata": {
      "needs_background": "light"
     },
     "output_type": "display_data"
    }
   ],
   "source": [
    "linearModel_t5= developLinearModel2(X_train,y_train)"
   ]
  },
  {
   "cell_type": "code",
   "execution_count": null,
   "metadata": {},
   "outputs": [],
   "source": []
  },
  {
   "cell_type": "code",
   "execution_count": null,
   "metadata": {},
   "outputs": [],
   "source": []
  },
  {
   "cell_type": "code",
   "execution_count": null,
   "metadata": {},
   "outputs": [],
   "source": []
  }
 ],
 "metadata": {
  "kernelspec": {
   "display_name": "Python 3",
   "language": "python",
   "name": "python3"
  },
  "language_info": {
   "codemirror_mode": {
    "name": "ipython",
    "version": 3
   },
   "file_extension": ".py",
   "mimetype": "text/x-python",
   "name": "python",
   "nbconvert_exporter": "python",
   "pygments_lexer": "ipython3",
   "version": "3.7.4"
  }
 },
 "nbformat": 4,
 "nbformat_minor": 2
}
